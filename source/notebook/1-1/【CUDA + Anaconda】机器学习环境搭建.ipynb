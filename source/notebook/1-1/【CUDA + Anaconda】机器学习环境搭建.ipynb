{
 "cells": [
  {
   "cell_type": "markdown",
   "metadata": {},
   "source": [
    "## 1-1 【CUDA + Anaconda】机器学习环境搭建\n",
    "\n",
    "### 动手学AI系列特点\n",
    "\n",
    "1. **简单好上手**帮你省时间\n",
    "2. 介绍最新**最前沿**的算法\n",
    "3. 有效解决你的**实战问题**\n"
   ]
  },
  {
   "cell_type": "markdown",
   "metadata": {},
   "source": [
    "### 本节目标\n",
    "\n",
    "**安装CUDA和Anaconda** 把开发环境搭建起来"
   ]
  },
  {
   "cell_type": "markdown",
   "metadata": {},
   "source": [
    "### CUDA是什么？\n",
    "\n",
    "CUDA是底层的显卡驱动，它用来管理GPU，实现并行运算.\n",
    "由于是英伟达公司推出的平台，所以电脑的显卡必须是Nvidia的\n",
    "AMD的不行，装不了CUDA\n",
    "\n",
    "这里注意:不要随意下载版本安装，我们要根据电脑显卡驱动的版本.\n",
    "安装对应支持的CUDA版本，否则会有不兼容的情况\n"
   ]
  },
  {
   "cell_type": "markdown",
   "metadata": {},
   "source": [
    "### 查看电脑显卡型号是否支持CUDA的安装\n",
    "[查看电脑显卡型号是否支持CUDA的安装](https://developer.nvidia.com/zh-cn/cuda-gpus)\n",
    "\n",
    "![](../../notebook/1-1/assets/01.png)\n",
    "\n",
    "可以在上面的网页中查到"
   ]
  },
  {
   "cell_type": "markdown",
   "metadata": {},
   "source": [
    "### 查看电脑显卡的驱动版本\n",
    "\n",
    "查看的方法是：\n",
    "在电脑桌面\n",
    "单击鼠标右键\n",
    "然后选择【NVIDIA控制面板】\n",
    "在面板里点击【系统信息】查看\n",
    "就能看到驱动程序版本信息了\n",
    "可以看到我的显卡驱动版本是472.12\n",
    "![](../../notebook/1-1/assets/02.png)\n",
    "\n"
   ]
  },
  {
   "cell_type": "markdown",
   "metadata": {},
   "source": [
    "### 根据显卡驱动版本下载支持的CUDA版本\n",
    "[到英伟达的CUDA版本信息中查看](https://docs.nvidia.com/cuda/cuda-toolkit-release-notes/index.html)\n",
    "\n",
    "由于我的驱动版本是472 .12\n",
    "所以我最高能安装的CUDA版本就是11.4.0\n",
    "![](../../notebook/1-1/assets/03.png)\n",
    "\n",
    "[打开CUDA安装地址下载对应的CUDA版本](https://developer.nvidia.com/cuda-toolkit-archive)\n",
    "![](../../notebook/1-1/assets/04.png)\n",
    "\n",
    "点击进入到下载页面\n",
    "![](../../notebook/1-1/assets/05.png)\n",
    "\n",
    "选择对应的选项后\n",
    "点击下载\n",
    "双击下载的exe文件进行安装\n",
    "一路下一步，无脑安装。\n",
    "默认安装在C:\\Program Files\\NVIDIA GPU Computing Toolkit\\CUDA\n",
    "当然如果你想自定义的话要记住你选择的安装路径。\n",
    "到此\n",
    "第一步的CUDA安装就完成了\n",
    "\n"
   ]
  },
  {
   "cell_type": "markdown",
   "metadata": {},
   "source": [
    "### 检查CUDA是否安装成功\n",
    "\n",
    "我们打开cmd \n",
    "在命令行中输入 nvcc -V\n",
    "然后回车\n",
    "成功的话就会返回CUDA的版本号了\n",
    "![](../../notebook/1-1/assets/06.png)"
   ]
  },
  {
   "cell_type": "markdown",
   "metadata": {},
   "source": [
    "### 安装Anaconda\n",
    "Anaconda是Python的包管理器和环境管理器\n",
    "\n",
    "[官网下载地址](https://www.anaconda.com/products/individual)\n",
    "根据自己的电脑情况 \n",
    "选择对应的版本下载\n",
    "下载后的exe文件直接鼠标双击安装\n",
    "一路下一步\n",
    "\n",
    "安装完成后需要配置环境变量\n",
    "在path中添加安装Anaconda的根目录以及Scripts目录\n",
    "![](../../notebook/1-1/assets/07.png)\n",
    "\n",
    "配置好后在cmd中运行\n",
    "conda -V\n",
    "查看版本信息\n",
    "conda  env list\n",
    "查看我们的虚拟环境\n",
    "![](../../notebook/1-1/assets/08.png)"
   ]
  },
  {
   "cell_type": "markdown",
   "metadata": {},
   "source": [
    "### 更换Anaconda的安装包下载源\n",
    "\n",
    "打开[清华镜像网站](https://mirrors.tuna.tsinghua.edu.cn/help/anaconda/)\n",
    "因为conda默认使用的是国外的下载地址\n",
    "常常导致下载一些包的时候非常慢\n",
    "\n",
    "可以按照下面操作进行：\n",
    "![](../../notebook/1-1/assets/09.png)\n",
    "先在用户目录下查看是否有.condarc文件\n",
    "没有的话\n",
    "在cmd命令行中先执行\n",
    "conda config --set show_channel_urls yes\n",
    "就会生成.condarc文件了\n",
    "然后再进行修改。\n",
    "修改后\n",
    "执行 conda clean -i \n",
    "清除索引缓存\n",
    "保证用的是镜像站提供的索引。\n",
    "\n",
    "到此开发环境就已经搭建完成。\n"
   ]
  }
 ],
 "metadata": {
  "kernelspec": {
   "display_name": "Python 3",
   "language": "python",
   "name": "python3"
  },
  "language_info": {
   "codemirror_mode": {
    "name": "ipython",
    "version": 3
   },
   "file_extension": ".py",
   "mimetype": "text/x-python",
   "name": "python",
   "nbconvert_exporter": "python",
   "pygments_lexer": "ipython3",
   "version": "3.8.5"
  }
 },
 "nbformat": 4,
 "nbformat_minor": 5
}
