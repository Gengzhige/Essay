{
 "cells": [
  {
   "cell_type": "markdown",
   "id": "e0574ae9",
   "metadata": {},
   "source": [
    "## 3-6 Transformer\n",
    "\n",
    "我们已经学习了传统的CNN、RNN模型，他们各自有自己擅长的领域和场景。而Transformer的出现，却几乎一统整个机器学习领域，它就像一个无敌的变形金刚，横扫NLP领域的同时也在图像、语音等其他领域证明了自己的价值。\n",
    "\n",
    "要了解Transformer，首先要从它的核心attention机制说起。\n",
    "\n",
    "### 1. attention机制\n",
    "\n",
    "作为Transformer的核心，attention机制的重要性毋庸置疑。NLP领域的几大重要进展Transformer、BERT、GPT等等，全是在它的基础上发展起来的。\n",
    "\n",
    "我们先来看看在机器学习里它是怎么用的。\n",
    "\n",
    "聚焦到AI翻译领域，当我们顺序输入一句话，它是如何做到通过上下文，动态改变翻译结果的呢？"
   ]
  },
  {
   "cell_type": "markdown",
   "id": "c8cc85cb",
   "metadata": {},
   "source": [
    "![](../../notebook/3-6/assets/t-1.png)"
   ]
  },
  {
   "cell_type": "markdown",
   "id": "6ce449a6",
   "metadata": {},
   "source": [
    "只考虑自己的权重，games本意是游戏，考虑in和Beijing时，它被理解为比赛，当综合winter和2022时，翻译成冬奥会就更准确了，是不是很神奇？\n",
    "\n",
    "我们讲过，RNN模型改进了传统神经网络，建立了网络隐层间的时序关联，每一时刻的隐层状态$s_t$，不仅取决于输入$x_t$，还包含了上一时刻状态$s_{t-1}$，两个RNN结构组合，形成encoder-decoder模型，先对一句话编码，然后再解码，就能够实现机器翻译。"
   ]
  },
  {
   "cell_type": "markdown",
   "id": "9e568baa",
   "metadata": {},
   "source": [
    "![](../../notebook/3-6/assets/t-2.png)"
   ]
  },
  {
   "cell_type": "markdown",
   "id": "2d568d09",
   "metadata": {},
   "source": [
    "但是这种不管输入多长，都压缩编码成一个统一长度编码c的做法，属于眉毛胡子一把抓，会导致翻译精度下降。\n",
    "\n",
    "Attention机制则会通过在每个时间输入不同的c，来解决这个问题。"
   ]
  },
  {
   "cell_type": "markdown",
   "id": "6880fc96",
   "metadata": {},
   "source": [
    "![](../../notebook/3-6/assets/t-3.png)"
   ]
  },
  {
   "cell_type": "markdown",
   "id": "821fb529",
   "metadata": {},
   "source": [
    "其中，系数$α_{ti},i={1,...,T}$ 表明了在t时刻，所有输入的权重。以$c_t$的视角看过去，就是在它眼中，对不同输入的注意力。因此就被称为attention分布。\n",
    "\n",
    "网络结构定了，我们可以通过神经网络数据训练，得到最好的attention权重矩阵。\n",
    "\n",
    "通过attention机制的引入，我们打破了只能利用encoder最终单一向量结果的限制。让每一时刻模型都能动态看到全局信息，将注意力集中到对当前单词翻译最重要的输入信息上，大大改善了机器翻译的效果。\n",
    "\n",
    "随着GPU等大规模并行运算的发展，人们发现RNN的顺序结构很不方便，难以并行计算，效率太低。attention模型本身，对全部输入进行了打分，包含了原本RNN的顺序信息，这就self-attention机制。\n",
    "\n",
    "用开始的例子来表示，就是去掉了输入的箭头，encoder编码阶段利用attention机制计算每个单词与其他所有单词之间的关联。比如，当翻译games时，Beijing Winter 2022就有较高的attention score。"
   ]
  },
  {
   "cell_type": "markdown",
   "id": "4d58ca6c",
   "metadata": {},
   "source": [
    "![](../../notebook/3-6/assets/t-4.png)"
   ]
  },
  {
   "cell_type": "markdown",
   "id": "e59b8eb0",
   "metadata": {},
   "source": [
    "利用这些权重，加权表示，再放到一个前馈神经网络中，得到新的表示，就很好的嵌入了上下文的信息，这样的步骤重复几次效果更好。\n",
    "\n",
    "decoder时也是类似，不仅仅看之前产生的输出，而且还要看encoder的输出。"
   ]
  },
  {
   "cell_type": "markdown",
   "id": "b5cfafca",
   "metadata": {},
   "source": [
    "### 2. Transformer结构\n",
    "\n",
    "transformer源自谷歌在2017年提出的一篇论文，在机器翻译上效果非常好，提出以来横扫NLP领域，获得了极大关注，其复杂结构，让众多初学者头疼不已。\n",
    "\n",
    "输入一句中文，经过transformer变成了英文。实际上内部仍然是分为编码encoder和解码decoder两个部分。"
   ]
  },
  {
   "cell_type": "markdown",
   "id": "b5910c40",
   "metadata": {},
   "source": [
    "![](../../notebook/3-6/assets/t-5.png)"
   ]
  },
  {
   "cell_type": "markdown",
   "id": "2775aea8",
   "metadata": {},
   "source": [
    "其中，每个encoder和decoder，都包含了一系列的串联组合，比如6层结构。"
   ]
  },
  {
   "cell_type": "markdown",
   "id": "0386f2bb",
   "metadata": {},
   "source": [
    "![](../../notebook/3-6/assets/t-7.png)"
   ]
  },
  {
   "cell_type": "markdown",
   "id": "92ab0ad6",
   "metadata": {},
   "source": [
    "接下来，每个encoder又包含了两个模块，self-attention和前馈网络，这就是transformer的核心了。"
   ]
  },
  {
   "cell_type": "markdown",
   "id": "ece11142",
   "metadata": {},
   "source": [
    "![](../../notebook/3-6/assets/t-8.png)"
   ]
  },
  {
   "cell_type": "markdown",
   "id": "e0316025",
   "metadata": {},
   "source": [
    "decoder模块除了自注意和前馈网络外，多了一层encoder-decorder attention。意思就是解码翻译时每个词不光要看翻译出的词，还要兼顾encoder的整体信息。"
   ]
  },
  {
   "cell_type": "markdown",
   "id": "da7c6663",
   "metadata": {},
   "source": [
    "![](../../notebook/3-6/assets/t-9.png)"
   ]
  },
  {
   "cell_type": "markdown",
   "id": "5cfd162a",
   "metadata": {},
   "source": [
    "每个self-attention模块，通常又分解为多个部分，称为multi-head attention。其目的，就是通过不同的初始化方式，让模型能学习到不同方面的特征。\n",
    "\n",
    "合起来整体看一下transformer中的结构就是这样。"
   ]
  },
  {
   "cell_type": "markdown",
   "id": "e6221667",
   "metadata": {},
   "source": [
    "![](../../notebook/3-6/assets/t-10.png)"
   ]
  },
  {
   "cell_type": "markdown",
   "id": "ac4ea991",
   "metadata": {},
   "source": [
    "### 3. 内部结构\n",
    "\n",
    "网络结构清楚了，让我们看看数据是如何在这些模块间流动，将输入转化为输出的。\n",
    "\n",
    "首先，把单词向量化，嵌入位置信息（Position Embeddimg），变成统一的长度，比如：都是512维。"
   ]
  },
  {
   "cell_type": "markdown",
   "id": "00248f4e",
   "metadata": {},
   "source": [
    "![](../../notebook/3-6/assets/t-12.png)"
   ]
  },
  {
   "cell_type": "markdown",
   "id": "c9f418a7",
   "metadata": {},
   "source": [
    "encoder接收向量列表作为输入，先后通过self-attention和前馈网络，然后进入到下一个编码器。"
   ]
  },
  {
   "cell_type": "markdown",
   "id": "158e9e07",
   "metadata": {},
   "source": [
    "![](../../notebook/3-6/assets/t-13.png)"
   ]
  },
  {
   "cell_type": "markdown",
   "id": "255fe39e",
   "metadata": {},
   "source": [
    "其中self-attention就是张自查表，通过关联权重标明相互间关系，从而嵌入上下文信息。"
   ]
  },
  {
   "cell_type": "markdown",
   "id": "1dbdd52b",
   "metadata": {},
   "source": [
    "![](../../notebook/3-6/assets/t-14.png)"
   ]
  },
  {
   "cell_type": "markdown",
   "id": "66368107",
   "metadata": {},
   "source": [
    "让我们详细看看它们是怎么算的：\n",
    "每个输入的向量先嵌入位置信息"
   ]
  },
  {
   "cell_type": "markdown",
   "id": "cea6208b",
   "metadata": {},
   "source": [
    "![](../../notebook/3-6/assets/t-15.png)"
   ]
  },
  {
   "cell_type": "markdown",
   "id": "f26c0f50",
   "metadata": {},
   "source": [
    "然后，都分别乘以三个训练好的向量Q/K/V"
   ]
  },
  {
   "cell_type": "markdown",
   "id": "5281cd84",
   "metadata": {},
   "source": [
    "![](../../notebook/3-6/assets/t-16.png)"
   ]
  },
  {
   "cell_type": "markdown",
   "id": "a7b2e431",
   "metadata": {},
   "source": [
    "再用Q乘的向量q1，和所有单词的K向量做点积，得到一个相关系数，这步其实就实现了self-attention过程。\n",
    "\n",
    "之后的一系列操作，包括归一化，经过softmax函数过滤掉一些不相干的单词，把得到的系数乘以第三个V向量，最后通过加权求和得到输出$Z_1$向量。\n",
    "\n",
    "因为这个过程中,Q、K、V三个向量起到的作用很像数据库中的Query，Key和Value三步操作，因此就给它们起了这样的名字。\n"
   ]
  },
  {
   "cell_type": "markdown",
   "id": "7ab7f7f3",
   "metadata": {},
   "source": [
    "![](../../notebook/3-6/assets/t-17.png)"
   ]
  },
  {
   "cell_type": "markdown",
   "id": "67d59484",
   "metadata": {},
   "source": [
    "用线性代数的矩阵语言来描述上述过程要简洁许多，先用输入单词矩阵X分别乘以三个训练好的权重矩阵，得到Q、K、V矩阵。"
   ]
  },
  {
   "cell_type": "markdown",
   "id": "ce0b4cc7",
   "metadata": {},
   "source": [
    "![](../../notebook/3-6/assets/t-18.png)"
   ]
  },
  {
   "cell_type": "markdown",
   "id": "98691d9f",
   "metadata": {},
   "source": [
    "然后用下面的公式计算self-attention输出\n",
    "\n",
    "$$ Attention(Q,K,V)=softmax(\\frac{QK^T}{\\sqrt{d_k}})V $$"
   ]
  },
  {
   "cell_type": "markdown",
   "id": "fd28d70a",
   "metadata": {},
   "source": [
    "![](../../notebook/3-6/assets/t-19.png)"
   ]
  },
  {
   "cell_type": "markdown",
   "id": "8c59d26c",
   "metadata": {},
   "source": [
    "和输入X相比，矩阵Z的维度没有变，只是其中被编码掺入了其他单词的上下文信息。\n",
    "\n",
    "在multi-head attention模块中,其实只是使用不同的权重矩阵Q、K、V进行8次不同的计算，得到8个不同的输出Z矩阵。"
   ]
  },
  {
   "cell_type": "markdown",
   "id": "609448a9",
   "metadata": {},
   "source": [
    "![](../../notebook/3-6/assets/t-20.png)"
   ]
  },
  {
   "cell_type": "markdown",
   "id": "1849d36a",
   "metadata": {},
   "source": [
    "费劲这么做的主要目的是，消除Q、K、V初始值的影响，说白了就是同一件事找8个人做，万一哪个不靠谱也不影响大局。最后再求个加权平均合成一个z。\n",
    "\n",
    "把上述过程合起来就是下面这张图了。"
   ]
  },
  {
   "cell_type": "markdown",
   "id": "21f0f18f",
   "metadata": {},
   "source": [
    "![](../../notebook/3-6/assets/t-21.png)"
   ]
  },
  {
   "cell_type": "markdown",
   "id": "c211ea3e",
   "metadata": {},
   "source": [
    "现在让我们动态的看看各个模块是如何协同工作的。\n",
    "\n",
    "编码器处理输入序列，将顶部的输出转换为一组attention向量K和V，它们就像是零件拆解说明书，在解码器组装零件时要用到。\n",
    "\n",
    "解码器阶段，一边看自己的说明书，了解已经组装完的情况，一边考虑其他零件拆分时的相互关系，每一步组装输出一个零件。重复这个步骤，就冒泡完成了翻译，重新组装的工作。"
   ]
  },
  {
   "cell_type": "markdown",
   "id": "9fb4ebeb",
   "metadata": {},
   "source": [
    "![](../../notebook/3-6/assets/t-22.png)"
   ]
  },
  {
   "cell_type": "markdown",
   "id": "9811a234",
   "metadata": {},
   "source": [
    "解码器的输出是个向量，如何变成一个单词呢？\n",
    "\n",
    "这就是最后线性层+softmax层的工作了。其中线性层是个简单的全连接网络，把解码器输出的向量投影成一个一维的长长的向量，它包含了训练时所有可能出现的单词的总和，向量维度就是词表的大小。\n",
    "\n",
    "softmax层进一步归一化，计算转化为概率，最后选择概率最高的那一个对应的单词。"
   ]
  },
  {
   "cell_type": "markdown",
   "id": "b3262da4",
   "metadata": {},
   "source": [
    "![](../../notebook/3-6/assets/t-23.png)"
   ]
  },
  {
   "cell_type": "markdown",
   "id": "9adbce31",
   "metadata": {},
   "source": [
    "### 4. 代码实现\n",
    "\n",
    "首先，我们需要设置一系列的超参数，其中几个值得注意的参数如下：sentence是我们要翻译的句子集合，input_vocab是我们的输入词表,output_vocab是输出词表，input_len和output_len是句子的最大长度。"
   ]
  },
  {
   "cell_type": "code",
   "execution_count": 1,
   "id": "110be579",
   "metadata": {},
   "outputs": [],
   "source": [
    "## 语料集准备\n",
    "sentences = ['I like the 2022 Beijing Winter Games', 'S 我 爱 2022 北京 冬 奥会', '我 爱 2022 北京 冬 奥会 E']\n",
    " ## 模型参数\n",
    "input_vocab = {'I': 0, 'like': 1, 'the': 2, '2022': 3, 'Beijing': 4, 'Winter': 4, 'Games': 4}\n",
    "input_vocab_size = len(input_vocab)\n",
    "\n",
    "output_vocab = {'我': 0, '爱': 1, '2022': 2, '北京': 3, '冬': 4, '奥会': 5, 'S': 6, 'E': 7} ## 目标词表\n",
    "number_dict = {i: w for i, w in enumerate(output_vocab)} ## \n",
    "output_vocab_size = len(output_vocab)\n",
    "\n",
    "input_len = 7 # 输入句子最大长度\n",
    "output_len = 7 # 输出句子最大长度\n",
    "\n",
    "d_model = 512  # 词嵌入维度\n",
    "d_ff = 2048  # 前馈层维度\n",
    "d_k = d_v = 64  # K\\V的维度\n",
    "n_layers = 6  # 解码器编码器层数\n",
    "n_heads = 8  # 多头的个数"
   ]
  },
  {
   "cell_type": "markdown",
   "id": "39989f40",
   "metadata": {},
   "source": [
    "接下来编写Transformer类，它主要是由encoder、decoder和Linear部分组成。"
   ]
  },
  {
   "cell_type": "code",
   "execution_count": 2,
   "id": "0876a7df",
   "metadata": {},
   "outputs": [],
   "source": [
    "import torch\n",
    "import numpy as np\n",
    "import matplotlib.pyplot as plt\n",
    "\n",
    "class Transformer(torch.nn.Module):\n",
    "    def __init__(self):\n",
    "        super(Transformer, self).__init__()\n",
    "        self.encoder = Encoder()\n",
    "        self.decoder = Decoder()\n",
    "        self.projection = torch.nn.Linear(d_model, output_vocab_size, bias=False)\n",
    "    def forward(self, enc_inputs, dec_inputs):\n",
    "        enc_outputs, enc_self_attns = self.encoder(enc_inputs)\n",
    "        dec_outputs, dec_self_attns, dec_enc_attns = self.decoder(dec_inputs, enc_inputs, enc_outputs)\n",
    "        dec_logits = self.projection(dec_outputs) # dec_logits : [batch_size x input_vocab_size x output_vocab_size]\n",
    "        return dec_logits.view(-1, dec_logits.size(-1)), enc_self_attns, dec_self_attns, dec_enc_attns"
   ]
  },
  {
   "cell_type": "markdown",
   "id": "247a5353",
   "metadata": {},
   "source": [
    "其中，Encoder主要包含token embedding， position embedding以及若干层EncoderLayer。 "
   ]
  },
  {
   "cell_type": "code",
   "execution_count": 3,
   "id": "4d698232",
   "metadata": {},
   "outputs": [],
   "source": [
    "class Encoder(torch.nn.Module):\n",
    "    def __init__(self):\n",
    "        super(Encoder, self).__init__()\n",
    "        self.token_emb = torch.nn.Embedding(input_vocab_size, d_model)\n",
    "        self.pos_emb = torch.nn.Embedding.from_pretrained(get_sinusoid_encoding_table(input_len+1, d_model),freeze=True)\n",
    "        self.layers = torch.nn.ModuleList([EncoderLayer() for _ in range(n_layers)])\n",
    "\n",
    "    def forward(self, enc_inputs): # enc_inputs : [batch_size x source_len]\n",
    "        enc_outputs = self.token_emb(enc_inputs) + self.pos_emb(torch.LongTensor([[1,2,3,4,5,6,0]]))\n",
    "        enc_self_attn_mask = get_attn_pad_mask(enc_inputs, enc_inputs)\n",
    "        enc_self_attns = []\n",
    "        for layer in self.layers:\n",
    "            enc_outputs, enc_self_attn = layer(enc_outputs, enc_self_attn_mask)\n",
    "            enc_self_attns.append(enc_self_attn)\n",
    "        return enc_outputs, enc_self_attns"
   ]
  },
  {
   "cell_type": "markdown",
   "id": "e7ecafec",
   "metadata": {},
   "source": [
    "原始的Transformer位置编码，偶数位置是sin函数，奇数位置是cos函数，公式如下：\n",
    "\n",
    "$$PE_{(pos,2i)} = sin(pos/10000^{2i/d_{model}}        )$$\n",
    "$$PE_{(pos,2i+1)} = cos(pos/10000^{2i/d_{model}}        )$$\n",
    "\n",
    "后来，其他模型在实用的时候，并没有完全采用这种方式，这个我们以后再讲。这里还是用正余弦函数。\n"
   ]
  },
  {
   "cell_type": "code",
   "execution_count": 4,
   "id": "42762ceb",
   "metadata": {},
   "outputs": [],
   "source": [
    "def get_sinusoid_encoding_table(n_position, d_model):\n",
    "    def cal_angle(position, hid_idx):\n",
    "        return position / np.power(10000, 2 * (hid_idx // 2) / d_model)\n",
    "    def get_posi_angle_vec(position):\n",
    "        return [cal_angle(position, hid_j) for hid_j in range(d_model)]\n",
    "\n",
    "    sinusoid_table = np.array([get_posi_angle_vec(pos_i) for pos_i in range(n_position)])\n",
    "    sinusoid_table[:, 0::2] = np.sin(sinusoid_table[:, 0::2])  # dim 2i\n",
    "    sinusoid_table[:, 1::2] = np.cos(sinusoid_table[:, 1::2])  # dim 2i+1\n",
    "    return torch.FloatTensor(sinusoid_table)"
   ]
  },
  {
   "cell_type": "markdown",
   "id": "831baf01",
   "metadata": {},
   "source": [
    "mask主要是Q与K的注意力掩码，当然在Transformer中Q，K和V是相同的，都是input值。"
   ]
  },
  {
   "cell_type": "code",
   "execution_count": 5,
   "id": "3de96733",
   "metadata": {},
   "outputs": [],
   "source": [
    "def get_attn_pad_mask(seq_q, seq_k):\n",
    "    batch_size, len_q = seq_q.size()\n",
    "    batch_size, len_k = seq_k.size()\n",
    "    # eq(zero) is PAD token\n",
    "    pad_attn_mask = seq_k.data.eq(0).unsqueeze(1)  # batch_size x 1 x len_k(=len_q), one is masking\n",
    "    return pad_attn_mask.expand(batch_size, len_q, len_k)  # batch_size x len_q x len_k"
   ]
  },
  {
   "cell_type": "markdown",
   "id": "627cffb5",
   "metadata": {},
   "source": [
    "正如前文介绍的那样，EncoderLayer主要由多头注意力层和前馈层组成。"
   ]
  },
  {
   "cell_type": "code",
   "execution_count": 6,
   "id": "00b84792",
   "metadata": {},
   "outputs": [],
   "source": [
    "class EncoderLayer(torch.nn.Module):\n",
    "    def __init__(self):\n",
    "        super(EncoderLayer, self).__init__()\n",
    "        self.enc_self_attn = MultiHeadAttention()\n",
    "        self.pos_ffn = PoswiseFeedForwardNet()\n",
    "\n",
    "    def forward(self, enc_inputs, enc_self_attn_mask):\n",
    "        enc_outputs, attn = self.enc_self_attn(enc_inputs, enc_inputs, enc_inputs, enc_self_attn_mask) # enc_inputs to same Q,K,V\n",
    "        enc_outputs = self.pos_ffn(enc_outputs) # enc_outputs: [batch_size x len_q x d_model]\n",
    "        return enc_outputs, attn"
   ]
  },
  {
   "cell_type": "markdown",
   "id": "40653dd9",
   "metadata": {},
   "source": [
    "MultiHeadAttention主要由Q K V线性层和LayerNorm组成"
   ]
  },
  {
   "cell_type": "code",
   "execution_count": 7,
   "id": "4ed6edb9",
   "metadata": {},
   "outputs": [],
   "source": [
    "class MultiHeadAttention(torch.nn.Module):\n",
    "    def __init__(self):\n",
    "        super(MultiHeadAttention, self).__init__()\n",
    "        self.W_Q = torch.nn.Linear(d_model, d_k * n_heads)\n",
    "        self.W_K = torch.nn.Linear(d_model, d_k * n_heads)\n",
    "        self.W_V = torch.nn.Linear(d_model, d_v * n_heads)\n",
    "        self.linear = torch.nn.Linear(n_heads * d_v, d_model)\n",
    "        self.layer_norm = torch.nn.LayerNorm(d_model)\n",
    "\n",
    "    def forward(self, Q, K, V, attn_mask):\n",
    "        # q: [batch_size x len_q x d_model], k: [batch_size x len_k x d_model], v: [batch_size x len_k x d_model]\n",
    "        residual, batch_size = Q, Q.size(0)\n",
    "        # (B, S, D) -proj-> (B, S, D) -split-> (B, S, H, W) -trans-> (B, H, S, W)\n",
    "        q_s = self.W_Q(Q).view(batch_size, -1, n_heads, d_k).transpose(1,2)  # q_s: [batch_size x n_heads x len_q x d_k]\n",
    "        k_s = self.W_K(K).view(batch_size, -1, n_heads, d_k).transpose(1,2)  # k_s: [batch_size x n_heads x len_k x d_k]\n",
    "        v_s = self.W_V(V).view(batch_size, -1, n_heads, d_v).transpose(1,2)  # v_s: [batch_size x n_heads x len_k x d_v]\n",
    "\n",
    "        attn_mask = attn_mask.unsqueeze(1).repeat(1, n_heads, 1, 1) # attn_mask : [batch_size x n_heads x len_q x len_k]\n",
    "\n",
    "        # context: [batch_size x n_heads x len_q x d_v], attn: [batch_size x n_heads x len_q(=len_k) x len_k(=len_q)]\n",
    "        context, attn = ScaledDotProductAttention()(q_s, k_s, v_s, attn_mask)\n",
    "        context = context.transpose(1, 2).contiguous().view(batch_size, -1, n_heads * d_v) # context: [batch_size x len_q x n_heads * d_v]\n",
    "        output = self.linear(context)\n",
    "        return self.layer_norm(output + residual), attn # output: [batch_size x len_q x d_model]"
   ]
  },
  {
   "cell_type": "markdown",
   "id": "bdaa974e",
   "metadata": {},
   "source": [
    "ScaledDotProductAttention每个head的Q与响应的K相乘得到注意力得分， attn_mask的作用是padding部分填充-1e9，使其在注意力中不起作用， 权重得分变小。然后进行Softmax，得到权重分布，最后乘以V 得到加权后的得分。维度一致保持[batch_size, n_head, src_len, d_k]"
   ]
  },
  {
   "cell_type": "code",
   "execution_count": 8,
   "id": "0a23ff6c",
   "metadata": {},
   "outputs": [],
   "source": [
    "class ScaledDotProductAttention(torch.nn.Module):\n",
    "    def __init__(self):\n",
    "        super(ScaledDotProductAttention, self).__init__()\n",
    "\n",
    "    def forward(self, Q, K, V, attn_mask):\n",
    "        scores = torch.matmul(Q, K.transpose(-1, -2)) / np.sqrt(d_k) # scores:[batch_size x n_heads x len_q(=len_k) x len_k(=len_q)]\n",
    "        scores.masked_fill_(attn_mask, -1e9) # Fills elements of self tensor with value where mask is one.\n",
    "        attn = torch.nn.Softmax(dim=-1)(scores)\n",
    "        context = torch.matmul(attn, V)\n",
    "        return context, attn"
   ]
  },
  {
   "cell_type": "markdown",
   "id": "0ee50244",
   "metadata": {},
   "source": [
    "PoswiseFeedForwardNet主要由两层CNN、一层激活层和一层LayerNorm组成。"
   ]
  },
  {
   "cell_type": "code",
   "execution_count": 9,
   "id": "b90971a8",
   "metadata": {},
   "outputs": [],
   "source": [
    "class PoswiseFeedForwardNet(torch.nn.Module):\n",
    "    def __init__(self):\n",
    "        super(PoswiseFeedForwardNet, self).__init__()\n",
    "        self.conv1 = torch.nn.Conv1d(in_channels=d_model, out_channels=d_ff, kernel_size=1)\n",
    "        self.conv2 = torch.nn.Conv1d(in_channels=d_ff, out_channels=d_model, kernel_size=1)\n",
    "        self.layer_norm = torch.nn.LayerNorm(d_model)\n",
    "\n",
    "    def forward(self, inputs):\n",
    "        residual = inputs # inputs : [batch_size, len_q, d_model]\n",
    "        output = torch.nn.ReLU()(self.conv1(inputs.transpose(1, 2)))\n",
    "        output = self.conv2(output).transpose(1, 2)\n",
    "        return self.layer_norm(output + residual)"
   ]
  },
  {
   "cell_type": "markdown",
   "id": "5dcdb04d",
   "metadata": {},
   "source": [
    "以上就是Encoder部分的全部内容，然后我们来看Decoder部分。\n",
    "\n",
    "Decoder主要由output token embedding、output postion embedding和若干层DecoderLayer组成"
   ]
  },
  {
   "cell_type": "code",
   "execution_count": 10,
   "id": "6fd38095",
   "metadata": {},
   "outputs": [],
   "source": [
    "class Decoder(torch.nn.Module):\n",
    "    def __init__(self):\n",
    "        super(Decoder, self).__init__()\n",
    "        self.output_token_emb = torch.nn.Embedding(output_vocab_size, d_model)\n",
    "        self.pos_emb = torch.nn.Embedding.from_pretrained(get_sinusoid_encoding_table(output_len+1, d_model),freeze=True)\n",
    "        self.layers = torch.nn.ModuleList([DecoderLayer() for _ in range(n_layers)])\n",
    "\n",
    "    def forward(self, dec_inputs, enc_inputs, enc_outputs): # dec_inputs : [batch_size x target_len]\n",
    "        dec_outputs = self.output_token_emb(dec_inputs) + self.pos_emb(torch.LongTensor([[7,1,2,3,4,5,6]]))\n",
    "        dec_self_attn_pad_mask = get_attn_pad_mask(dec_inputs, dec_inputs)\n",
    "        dec_self_attn_subsequent_mask = get_attn_subsequent_mask(dec_inputs)\n",
    "        dec_self_attn_mask = torch.gt((dec_self_attn_pad_mask + dec_self_attn_subsequent_mask), 0)\n",
    "\n",
    "        dec_enc_attn_mask = get_attn_pad_mask(dec_inputs, enc_inputs)\n",
    "\n",
    "        dec_self_attns, dec_enc_attns = [], []\n",
    "        for layer in self.layers:\n",
    "            dec_outputs, dec_self_attn, dec_enc_attn = layer(dec_outputs, enc_outputs, dec_self_attn_mask, dec_enc_attn_mask)\n",
    "            dec_self_attns.append(dec_self_attn)\n",
    "            dec_enc_attns.append(dec_enc_attn)\n",
    "        return dec_outputs, dec_self_attns, dec_enc_attns\n",
    "\n",
    "def get_attn_subsequent_mask(seq):\n",
    "    attn_shape = [seq.size(0), seq.size(1), seq.size(1)]\n",
    "    subsequent_mask = np.triu(np.ones(attn_shape), k=1)\n",
    "    subsequent_mask = torch.from_numpy(subsequent_mask).byte()\n",
    "    return subsequent_mask"
   ]
  },
  {
   "cell_type": "markdown",
   "id": "0fe95982",
   "metadata": {},
   "source": [
    "DecoderLayer主要由自注意力MultiHeadAttention,交互注意力MultiHeadAttention(输入的是dec_enc_attn_mask掩码)，和前馈神经PoswiseFeedForwardNet组成（与encoder一样）"
   ]
  },
  {
   "cell_type": "code",
   "execution_count": 11,
   "id": "dffd6fcc",
   "metadata": {},
   "outputs": [],
   "source": [
    "class DecoderLayer(torch.nn.Module):\n",
    "    def __init__(self):\n",
    "        super(DecoderLayer, self).__init__()\n",
    "        self.dec_self_attn = MultiHeadAttention()\n",
    "        self.dec_enc_attn = MultiHeadAttention()\n",
    "        self.pos_ffn = PoswiseFeedForwardNet()\n",
    "\n",
    "    def forward(self, dec_inputs, enc_outputs, dec_self_attn_mask, dec_enc_attn_mask):\n",
    "        dec_outputs, dec_self_attn = self.dec_self_attn(dec_inputs, dec_inputs, dec_inputs, dec_self_attn_mask)\n",
    "        dec_outputs, dec_enc_attn = self.dec_enc_attn(dec_outputs, enc_outputs, enc_outputs, dec_enc_attn_mask)\n",
    "        dec_outputs = self.pos_ffn(dec_outputs)\n",
    "        return dec_outputs, dec_self_attn, dec_enc_attn"
   ]
  },
  {
   "cell_type": "markdown",
   "id": "77224aed",
   "metadata": {},
   "source": [
    "然后再加上可视化和批处理的方法，我们的模型就完整了。"
   ]
  },
  {
   "cell_type": "code",
   "execution_count": 12,
   "id": "30381f2d",
   "metadata": {},
   "outputs": [],
   "source": [
    "def showgraph(attn):\n",
    "    attn = attn[-1].squeeze(0)[0]\n",
    "    attn = attn.squeeze(0).data.numpy()\n",
    "    fig = plt.figure(figsize=(n_heads, n_heads)) # [n_heads, n_heads]\n",
    "    ax = fig.add_subplot(1, 1, 1)\n",
    "    ax.matshow(attn, cmap='viridis')\n",
    "    ax.set_xticklabels(['']+sentences[0].split(), fontdict={'fontsize': 14}, rotation=90)\n",
    "    ax.set_yticklabels(['']+sentences[2].split(), fontdict={'fontsize': 14})\n",
    "    plt.show()\n",
    "    \n",
    "def make_batch(sentences):\n",
    "    input_batch = [[input_vocab[n] for n in sentences[0].split()]]\n",
    "    output_batch = [[output_vocab[n] for n in sentences[1].split()]]\n",
    "    target_batch = [[output_vocab[n] for n in sentences[2].split()]]\n",
    "    return torch.LongTensor(input_batch), torch.LongTensor(output_batch), torch.LongTensor(target_batch)"
   ]
  },
  {
   "cell_type": "markdown",
   "id": "5f54ff38",
   "metadata": {},
   "source": [
    "接下来就可以运行了，运行代码如下："
   ]
  },
  {
   "cell_type": "code",
   "execution_count": 13,
   "id": "1f0b1d60",
   "metadata": {
    "scrolled": true
   },
   "outputs": [
    {
     "name": "stdout",
     "output_type": "stream",
     "text": [
      "Epoch: 0001 cost = 2.445940\n",
      "Epoch: 0002 cost = 3.512230\n",
      "Epoch: 0003 cost = 2.488030\n",
      "Epoch: 0004 cost = 3.226420\n",
      "Epoch: 0005 cost = 4.800783\n",
      "Epoch: 0006 cost = 4.415923\n",
      "Epoch: 0007 cost = 2.554515\n",
      "Epoch: 0008 cost = 5.678231\n",
      "Epoch: 0009 cost = 3.769624\n",
      "Epoch: 0010 cost = 2.556017\n",
      "Epoch: 0011 cost = 2.270254\n",
      "Epoch: 0012 cost = 2.229251\n",
      "Epoch: 0013 cost = 2.098502\n",
      "Epoch: 0014 cost = 2.081786\n",
      "Epoch: 0015 cost = 1.995723\n",
      "Epoch: 0016 cost = 1.962300\n",
      "Epoch: 0017 cost = 1.946121\n",
      "Epoch: 0018 cost = 1.851217\n",
      "Epoch: 0019 cost = 1.766517\n",
      "Epoch: 0020 cost = 1.746125\n",
      "I like the 2022 Beijing Winter Games -> ['爱', '爱', 'E', 'E', 'E', 'E', 'E']\n",
      "first head of last state enc_self_attns\n"
     ]
    },
    {
     "data": {
      "image/png": "[encoded data removed]",
      "text/plain": [
       "<Figure size 576x576 with 1 Axes>"
      ]
     },
     "metadata": {
      "needs_background": "light"
     },
     "output_type": "display_data"
    },
    {
     "name": "stdout",
     "output_type": "stream",
     "text": [
      "first head of last state dec_self_attns\n"
     ]
    },
    {
     "data": {
      "image/png": "[encoded data removed]",
      "text/plain": [
       "<Figure size 576x576 with 1 Axes>"
      ]
     },
     "metadata": {
      "needs_background": "light"
     },
     "output_type": "display_data"
    },
    {
     "name": "stdout",
     "output_type": "stream",
     "text": [
      "first head of last state dec_enc_attns\n"
     ]
    },
    {
     "data": {
      "image/png": "[encoded data removed]",
      "text/plain": [
       "<Figure size 576x576 with 1 Axes>"
      ]
     },
     "metadata": {
      "needs_background": "light"
     },
     "output_type": "display_data"
    }
   ],
   "source": [
    "import warnings\n",
    "warnings.filterwarnings(\"ignore\")\n",
    "\n",
    "model = Transformer()\n",
    "\n",
    "criterion = torch.nn.CrossEntropyLoss()\n",
    "optimizer = torch.optim.Adam(model.parameters(), lr=0.001)\n",
    "\n",
    "enc_inputs, dec_inputs, target_batch = make_batch(sentences)\n",
    "\n",
    "for epoch in range(20):\n",
    "    optimizer.zero_grad()\n",
    "    outputs, enc_self_attns, dec_self_attns, dec_enc_attns = model(enc_inputs, dec_inputs)\n",
    "    loss = criterion(outputs, target_batch.contiguous().view(-1))\n",
    "    print('Epoch:', '%04d' % (epoch + 1), 'cost =', '{:.6f}'.format(loss))\n",
    "    loss.backward()\n",
    "    optimizer.step()\n",
    "\n",
    "# Test\n",
    "predict, _, _, _ = model(enc_inputs, dec_inputs)\n",
    "predict = predict.data.max(1, keepdim=True)[1]\n",
    "print(sentences[0], '->', [number_dict[n.item()] for n in predict.squeeze()])\n",
    "\n",
    "print('first head of last state enc_self_attns')\n",
    "showgraph(enc_self_attns)\n",
    "\n",
    "print('first head of last state dec_self_attns')\n",
    "showgraph(dec_self_attns)\n",
    "\n",
    "print('first head of last state dec_enc_attns')\n",
    "showgraph(dec_enc_attns)"
   ]
  },
  {
   "cell_type": "markdown",
   "id": "b35f94c0",
   "metadata": {},
   "source": [
    "至此，我们已经初步了解了Transformer模型的原理和应用，下节课我们一起来看看基于Transformer模型Encoder的模型——bert"
   ]
  }
 ],
 "metadata": {
  "kernelspec": {
   "display_name": "Python 3",
   "language": "python",
   "name": "python3"
  },
  "language_info": {
   "codemirror_mode": {
    "name": "ipython",
    "version": 3
   },
   "file_extension": ".py",
   "mimetype": "text/x-python",
   "name": "python",
   "nbconvert_exporter": "python",
   "pygments_lexer": "ipython3",
   "version": "3.8.8"
  }
 },
 "nbformat": 4,
 "nbformat_minor": 5
}
