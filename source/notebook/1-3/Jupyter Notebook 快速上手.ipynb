{
 "cells": [
  {
   "cell_type": "markdown",
   "id": "0d5dbff2",
   "metadata": {},
   "source": [
    "## Jupyter Notebook 快速上手"
   ]
  },
  {
   "cell_type": "markdown",
   "id": "83fdd736",
   "metadata": {},
   "source": [
    "### Jupyter是什么\n",
    "\n",
    "Jupyter Notebook是一个开源的Web应用程序，允许开发者方便的创建和共享代码文档\n",
    "\n",
    "可以实时的编写代码块运行代码块，查看结果并可视化数据"
   ]
  },
  {
   "cell_type": "markdown",
   "id": "16da5ec7",
   "metadata": {},
   "source": [
    "### Jupyter Notebook特点\n",
    "- 支持markdown语法\n",
    "- 支持LaTeX公式   \n",
    "- 允许把代码写入到独立的cell中，然后单独执行，无需从头开始执行代码"
   ]
  },
  {
   "cell_type": "markdown",
   "id": "3aa455c3",
   "metadata": {},
   "source": [
    "### 教程结构"
   ]
  },
  {
   "cell_type": "markdown",
   "id": "d590f0a8",
   "metadata": {},
   "source": [
    "<img src=\"./assets/1.png\" width=\"100%\" align=\"center\" />"
   ]
  },
  {
   "cell_type": "markdown",
   "id": "0ef9ac5c",
   "metadata": {},
   "source": [
    "### 1. Jupyter的安装与运行\n",
    "\n",
    "#### 1.1 图形化界面操作\n",
    "\n",
    "##### 1.1.1 默认的base环境\n",
    "安装了Anaconda后，在base环境就默认就安装了Jupyter Notebook\n",
    "\n",
    "打开Anaconda，在home界面直接点击launch运行\n",
    "\n",
    "<img src=\"./assets/2.png\" width=\"100%\" align=\"center\" />\n",
    "\n",
    "##### 1.1.2 创建新的虚拟环境\n",
    "打开Anaconda,在Environments界面，创建新的python虚拟环境\n",
    "\n",
    "<img src=\"./assets/3.png\" width=\"100%\" align=\"center\" />\n",
    "\n",
    "然后回到home界面，点击install按钮安装Jupyter  Notebook\n",
    "\n",
    "<img src=\"./assets/4.png\" width=\"100%\" align=\"center\" />\n",
    "\n",
    "安装完成后点击launch按钮运行\n",
    "\n",
    "\n",
    "#### 1.2 命令行操作\n",
    "##### 1.2.1 默认的base环境\n",
    "打开Anaconda Prompt命令行： 因为base环境默认已经安装了Jupyter Notebook\n",
    "\n",
    "<img src=\"./assets/5.png\" width=\"100%\" align=\"center\" />\n",
    "\n",
    "所有直接输入命令： jupyter notebook  运行\n",
    "\n",
    "<img src=\"./assets/6.png\" width=\"100%\" align=\"center\" />\n",
    "\n",
    "##### 1.2.2 创建新的虚拟环境\n",
    "打开Anaconda Prompt命令行：首先创建一个新的虚拟环境\n",
    "\n",
    "conda create -n Gengzhi python=3.7\n",
    "\n",
    "然后切换到Gengzhi环境：conda activate Gengzhi\n",
    "\n",
    "然后进行安装：  conda install jupyter notebook\n",
    "\n",
    "安装完成后输入命令运行：  jupyter notebook\n"
   ]
  }
 ],
 "metadata": {
  "kernelspec": {
   "display_name": "Python 3 (ipykernel)",
   "language": "python",
   "name": "python3"
  },
  "language_info": {
   "codemirror_mode": {
    "name": "ipython",
    "version": 3
   },
   "file_extension": ".py",
   "mimetype": "text/x-python",
   "name": "python",
   "nbconvert_exporter": "python",
   "pygments_lexer": "ipython3",
   "version": "3.8.10"
  }
 },
 "nbformat": 4,
 "nbformat_minor": 5
}
