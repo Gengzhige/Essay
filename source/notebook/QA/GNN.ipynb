{
 "cells": [
  {
   "cell_type": "markdown",
   "id": "cellular-october",
   "metadata": {},
   "source": [
    "## GNN\n",
    "\n",
    "**邻接矩阵包含了图的结构信息，聚合的过程也传递了图的结构信息，请问它们的区别是什么？从数学的角度看邻接矩阵起了什么作用？**\n",
    "\n",
    "> 前者representation，后者是correlation。邻接矩阵以稀疏性换取了规整性，获得了统一表达，方便对接NN。"
   ]
  }
 ],
 "metadata": {
  "kernelspec": {
   "display_name": "Python 3",
   "language": "python",
   "name": "python3"
  },
  "language_info": {
   "codemirror_mode": {
    "name": "ipython",
    "version": 3
   },
   "file_extension": ".py",
   "mimetype": "text/x-python",
   "name": "python",
   "nbconvert_exporter": "python",
   "pygments_lexer": "ipython3",
   "version": "3.8.8"
  }
 },
 "nbformat": 4,
 "nbformat_minor": 5
}
