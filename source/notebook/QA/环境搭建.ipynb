{
 "cells": [
  {
   "cell_type": "markdown",
   "id": "painted-magnitude",
   "metadata": {},
   "source": [
    "## 环境搭建\n",
    "\n",
    "**AMD的电脑是不是没法学？**\n",
    "\n",
    "> Amd显卡也是可以用来做深度学习的，但是比较复杂，各种框架支持的也不是很好，坑比较多，还是推荐使用N卡。\n",
    "\n",
    "**安装anaconda的时候，需要把原来安装的python卸载吗？**\n",
    "\n",
    "> 不用卸载，不冲突。\n",
    "\n",
    "**Mac没法用CUDA 用什么替代呢？**\n",
    "\n",
    "> ssh连服务器吧。\n",
    "\n",
    "**下了CUDA之后，用不用下cudnn?**\n",
    "\n",
    "> 需要装pytorch之类的深度学习库会用到。\n",
    "\n",
    "**装了pywin32 但是import win32gui 报红是什么原因呀**\n",
    "\n",
    "> 可能性比较多，参考这个试试：[原文链接](https://www.cnblogs.com/hackpig/p/8186214.html)\n",
    "\n",
    "**装Anaconda的时候镜像使用那里，用了记事本修改，然后运行 conda create -n myenv numpy 测试的时候一直显示failed TAT，请问有什么补救措施吗？**\n",
    "\n",
    "> [配置文档](https://www.cpci.dev/anaconda-mirrors-configure/) 建议按照这个文档再来一次。\n",
    "\n",
    "**安装anaconda的时候，环境变量是必须添加吗，看到有一些教程是说千万不要添加 **\n",
    "\n",
    "> 环境变量最好添加上吧 ，这样就能在cmd中直接使用conda了。\n",
    "\n",
    "**直接用Anaconda安装pytorch，cuda和cuudn也是可用的，是不是可以不单独安装cuda了**\n",
    "\n",
    "> 这样也可以，装到虚拟环境中了。\n",
    "\n",
    "**conda命令输出结果都没问题，但是总会报一堆警告再出结果**\n",
    "\n",
    "> 异常和错误，都是程序出现了一些问题，但是警告不同，他的紧急程度非常之低，大部分可以直接忽略。如果不想显示这些告警信息，可以直接加上参数  -w ignore 参数，就不会再显示了。\n",
    "\n",
    "**可以直接在anconda文件下envs中，将环境文件删除吗？这样删除的干净吗？**\n",
    "\n",
    "> 可以的。\n",
    "\n",
    "**使用conda 的虚拟环境和其他传统的虚拟环境库 有大的区别吗？**\n",
    "\n",
    "> 主要是多一个包管理器，虚拟环境方面差异不太大。"
   ]
  }
 ],
 "metadata": {
  "kernelspec": {
   "display_name": "Python 3",
   "language": "python",
   "name": "python3"
  },
  "language_info": {
   "codemirror_mode": {
    "name": "ipython",
    "version": 3
   },
   "file_extension": ".py",
   "mimetype": "text/x-python",
   "name": "python",
   "nbconvert_exporter": "python",
   "pygments_lexer": "ipython3",
   "version": "3.8.8"
  }
 },
 "nbformat": 4,
 "nbformat_minor": 5
}
