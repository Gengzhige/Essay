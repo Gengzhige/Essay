{
 "cells": [
  {
   "cell_type": "markdown",
   "id": "honest-ocean",
   "metadata": {},
   "source": [
    "## Attention\n",
    "\n",
    "**如果去掉rnn的传递的连接关系变为self-attention机制，您的页面特别像MLP的结构，我不懂这两者之间有什么核心的区别。**\n",
    "\n",
    "> 内部结构完全不一样，MLP每一层是线性运算加激活函数，attention结构是qkv运算加残差网络，正则化，前馈网络。"
   ]
  }
 ],
 "metadata": {
  "kernelspec": {
   "display_name": "Python 3",
   "language": "python",
   "name": "python3"
  },
  "language_info": {
   "codemirror_mode": {
    "name": "ipython",
    "version": 3
   },
   "file_extension": ".py",
   "mimetype": "text/x-python",
   "name": "python",
   "nbconvert_exporter": "python",
   "pygments_lexer": "ipython3",
   "version": "3.8.8"
  }
 },
 "nbformat": 4,
 "nbformat_minor": 5
}
