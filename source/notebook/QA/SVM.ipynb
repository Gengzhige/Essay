{
 "cells": [
  {
   "cell_type": "markdown",
   "id": "durable-volume",
   "metadata": {},
   "source": [
    "## SVM\n",
    "\n",
    "**希尔伯特空间修正**\n",
    "\n",
    "> 线性完备内积空间称为Hilbert space，它是具备内积+线性的一大类函数空间。它是有限维欧几里得空间的一个推广，其元素可能代表了一列复数或是一个函数。所有的欧氏空间也都是希尔伯特空间。SVM准确说应该是再生核希尔伯特空间(RKHS, reproducing kernel Hilbert space)。SVM核技巧就是在样本线性不可分的情况下，将样本映射到一个更高维的空间，也许在更高维空间，样本是线性可分的。\n",
    "\n",
    "**深度学习可以完美替代svm吗？现在svm存在的意义是小样本高效吗？**\n",
    "\n",
    "> 实际应用不仅仅是分类准确率的问题，还有许多其他问题，如训练时间，计算资源，模型大小，可解释性等，依然很受欢迎。\n",
    "\n",
    "**SVM怎么能做回归呢？**\n",
    "\n",
    "> 对于SVM来说，拟合的定义是指定一个margin值，在这个margin范围里面，包含的数据点越多越好，包含的越多就代表这个范围能比较好的表达样本数据点，这种情况下取中间的直线作为真正的回归结果，用其来预测其他点的相应的值。\n",
    "\n",
    "> 类比视频中的例子，不是用隔离带分类了，而是把牛尽量都赶到隔离带内。思路是有点相反的意思，前面是越少越好，这里是越多越好。\n",
    "\n",
    "**小批量数据和大批量数据到底是怎么界定的？多少算小？多大算大啊？**\n",
    "\n",
    "> 后续会专门发布视频进行讲解。"
   ]
  }
 ],
 "metadata": {
  "kernelspec": {
   "display_name": "Python 3",
   "language": "python",
   "name": "python3"
  },
  "language_info": {
   "codemirror_mode": {
    "name": "ipython",
    "version": 3
   },
   "file_extension": ".py",
   "mimetype": "text/x-python",
   "name": "python",
   "nbconvert_exporter": "python",
   "pygments_lexer": "ipython3",
   "version": "3.8.8"
  }
 },
 "nbformat": 4,
 "nbformat_minor": 5
}
