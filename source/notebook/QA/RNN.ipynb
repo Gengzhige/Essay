{
 "cells": [
  {
   "cell_type": "markdown",
   "id": "noted-headline",
   "metadata": {},
   "source": [
    "## RNN\n",
    "\n",
    "**每个时刻的输入，是不是就是单词的独热编码或者是词向量？**\n",
    "\n",
    "> 一般是词向量。"
   ]
  }
 ],
 "metadata": {
  "kernelspec": {
   "display_name": "Python 3",
   "language": "python",
   "name": "python3"
  },
  "language_info": {
   "codemirror_mode": {
    "name": "ipython",
    "version": 3
   },
   "file_extension": ".py",
   "mimetype": "text/x-python",
   "name": "python",
   "nbconvert_exporter": "python",
   "pygments_lexer": "ipython3",
   "version": "3.8.8"
  }
 },
 "nbformat": 4,
 "nbformat_minor": 5
}
